{
 "cells": [
  {
   "cell_type": "markdown",
   "metadata": {
    "collapsed": true,
    "pycharm": {
     "name": "#%% md\n"
    }
   },
   "source": [
    "# Bilayer Tc vs film thickness Calculation\n",
    "This file simulates the Al/Ti bilayer discussed in\n",
    "[Zhao et al. 2018](https://doi.org/10.1088/1361-6668/aad788) and determines the\n",
    "transition temperature as a function of aluminum thickness. Figure 4 from the\n",
    "paper is reproduced. Although, we are using a full numerical simulation as\n",
    "opposed to their simpler algorithm\n",
    "\n",
    "We start with the standard import statements. (matplotlib is not a requirement\n",
    "for this library, so it must be installed separately for this notebook to run)."
   ]
  },
  {
   "cell_type": "code",
   "execution_count": 1,
   "outputs": [],
   "source": [
    "import numpy as np\n",
    "from matplotlib import pyplot as plt\n",
    "from superconductivity.multilayer import Stack, Superconductor\n",
    "\n",
    "%matplotlib inline"
   ],
   "metadata": {
    "collapsed": false,
    "pycharm": {
     "name": "#%%\n"
    }
   }
  },
  {
   "cell_type": "markdown",
   "source": [
    "To define a bilayer, we need the thickness, transition temperature,\n",
    "Debye temperature, diffusion constant, and resistivity for each layer. These\n",
    "numbers are taken from the paper."
   ],
   "metadata": {
    "collapsed": false
   }
  },
  {
   "cell_type": "code",
   "execution_count": 2,
   "outputs": [],
   "source": [
    "# Ti parameters\n",
    "# thickness [m]\n",
    "d_ti = 100e-9\n",
    "# transition temperature [K]\n",
    "tc_ti = [0.55, 0.588]\n",
    "# Debye temperature [K]\n",
    "td_ti = 426\n",
    "# diffusion constant [m^2 / s]\n",
    "dc_ti = 1.5\n",
    "# resistivity [Ohm m]\n",
    "rho_ti = 1 / 5.88 * 1e-6\n",
    "\n",
    "# Al parameters\n",
    "# thickness [m]\n",
    "d_al = np.linspace(1e-9, 500e-9, 20)\n",
    "# transition temperature [K]\n",
    "tc_al = 1.2\n",
    "# Debye temperature [K]\n",
    "td_al = 423\n",
    "# diffusion constant [m^2 / s]\n",
    "dc_al = 35\n",
    "# resistivity [Ohm m]\n",
    "rho_al = 1 / 132 * 1e-6\n",
    "\n",
    "# boundary resistance [Ohm m^2]\n",
    "rb = 0.0\n",
    "# temperature [K]\n",
    "t = 0.1\n"
   ],
   "metadata": {
    "collapsed": false,
    "pycharm": {
     "name": "#%%\n"
    }
   }
  },
  {
   "cell_type": "markdown",
   "source": [
    "The simulation is done by first creating the superconductor objects, setting\n",
    "some simulation parameters, adding them to a stack object, and updating the\n",
    "material properties. The stack.tc attribute is then populated, and we can plot\n",
    "it."
   ],
   "metadata": {
    "collapsed": false
   }
  },
  {
   "cell_type": "code",
   "execution_count": 3,
   "outputs": [
    {
     "data": {
      "text/plain": "<Figure size 432x288 with 1 Axes>",
      "image/png": "[encoded data removed]"
     },
     "metadata": {
      "needs_background": "light"
     },
     "output_type": "display_data"
    }
   ],
   "source": [
    "figure, axes = plt.subplots()\n",
    "for tci in tc_ti:\n",
    "    tc = np.zeros(len(d_al))\n",
    "    for ii, dii in enumerate(d_al):\n",
    "        # Define the superconductors.\n",
    "        al = Superconductor(dii, rho_al, t, td_al, tc_al, dc_al)\n",
    "        ti = Superconductor(d_ti, rho_ti, t, td_ti, tci, dc_ti)\n",
    "\n",
    "        # Add the superconductors to a stack.\n",
    "        stack = Stack([al, ti], rb)\n",
    "\n",
    "        # Do the simulation.\n",
    "        stack.update()\n",
    "\n",
    "        tc[ii] = stack.tc\n",
    "    axes.plot(d_al * 1e9, tc, label=f\"$T_c$ = {tci}\", linestyle='--')\n",
    "axes.set_xlim(0, 500)\n",
    "axes.set_ylim(0.5, 1.1)\n",
    "axes.set_xlabel(\"aluminum thickness [nm]\")\n",
    "axes.set_ylabel(\"transition temperature [K]\")\n",
    "axes.legend();"
   ],
   "metadata": {
    "collapsed": false,
    "pycharm": {
     "name": "#%%\n"
    }
   }
  }
 ],
 "metadata": {
  "kernelspec": {
   "display_name": "Python 3",
   "language": "python",
   "name": "python3"
  },
  "language_info": {
   "codemirror_mode": {
    "name": "ipython",
    "version": 2
   },
   "file_extension": ".py",
   "mimetype": "text/x-python",
   "name": "python",
   "nbconvert_exporter": "python",
   "pygments_lexer": "ipython2",
   "version": "2.7.6"
  }
 },
 "nbformat": 4,
 "nbformat_minor": 0
}
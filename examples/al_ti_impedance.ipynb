{
 "cells": [
  {
   "cell_type": "markdown",
   "metadata": {
    "collapsed": true,
    "pycharm": {
     "name": "#%% md\n"
    }
   },
   "source": [
    "# Surface Impedance Calculation\n",
    "This file simulates the Al/Ti/Al trilayer discussed in\n",
    "[Zhao et al. 2018](https://doi.org/10.1088/1361-6668/aa94b7) for two different\n",
    "aluminum layer thicknesses and reproduces figure 7.\n",
    "\n",
    "We start with the standard import statements. (matplotlib is not a requirement\n",
    "for this library, so it must be installed separately for this notebook to run).\n",
    "The logging module is also initialized to show details about the calculation."
   ]
  },
  {
   "cell_type": "code",
   "execution_count": 1,
   "outputs": [],
   "source": [
    "import logging\n",
    "import numpy as np\n",
    "from scipy.constants import hbar, k\n",
    "from matplotlib import pyplot as plt\n",
    "from superconductivity.multilayer import (\n",
    "    Stack, Superconductor, surface_impedance)\n",
    "\n",
    "logging.basicConfig(level=logging.DEBUG)\n",
    "logging.getLogger(\"matplotlib\").setLevel(logging.WARNING)\n",
    "\n",
    "%matplotlib inline"
   ],
   "metadata": {
    "collapsed": false,
    "pycharm": {
     "name": "#%%\n"
    }
   }
  },
  {
   "cell_type": "markdown",
   "source": [
    "To define a bilayer, we need the thickness, transition temperature,\n",
    "Debye temperature, diffusion constant, and resistivity for each layer. These\n",
    "numbers are taken from the paper.\n",
    "\n",
    "Here, we define two different titanium thicknesses to iterate over."
   ],
   "metadata": {
    "collapsed": false
   }
  },
  {
   "cell_type": "code",
   "execution_count": 2,
   "outputs": [],
   "source": [
    "# Ti parameters\n",
    "# thickness [m]\n",
    "d_ti = [200e-9, 25e-9]\n",
    "# transition temperature [K]\n",
    "tc_ti = 0.4\n",
    "# Debye temperature [K]\n",
    "td_ti = 420  # not actually used since we fix nc later\n",
    "# coherence length [m]\n",
    "xi_ti = 110e-9\n",
    "# diffusion constant [m^2 / s]\n",
    "dc_ti = 2 * np.pi * xi_ti**2 * tc_ti * k / hbar\n",
    "# resistivity [Ohm m]\n",
    "rho_ti = 1 / 3 * 1e-6\n",
    "\n",
    "# Al parameters\n",
    "# thickness [m]\n",
    "d_al = 25e-9\n",
    "# transition temperature [K]\n",
    "tc_al = 1.2\n",
    "# Debye temperature [K]\n",
    "td_al = 433  # not actually used since we fix nc later\n",
    "# coherence length [m]\n",
    "xi_al = 170e-9\n",
    "# diffusion constant [m^2 / s]\n",
    "dc_al = 2 * np.pi * xi_al**2 * tc_al * k / hbar\n",
    "# resistivity [Ohm m]\n",
    "rho_al = 1 / 180 * 1e-6"
   ],
   "metadata": {
    "collapsed": false,
    "pycharm": {
     "name": "#%%\n"
    }
   }
  },
  {
   "cell_type": "markdown",
   "source": [
    "We also need to know the boundary resistance between layers and the temperature."
   ],
   "metadata": {
    "collapsed": false
   }
  },
  {
   "cell_type": "code",
   "execution_count": 3,
   "outputs": [],
   "source": [
    "# boundary resistance [Ohm m^2]\n",
    "rb = 0.01 * rho_al * xi_al\n",
    "# temperature [K]\n",
    "t = 0.1"
   ],
   "metadata": {
    "collapsed": false,
    "pycharm": {
     "name": "#%%\n"
    }
   }
  },
  {
   "cell_type": "markdown",
   "source": [
    "The simulation is done by first creating the superconductor objects, setting\n",
    "some simulation parameters, adding them to a stack object, and then calling the\n",
    "complex_conductivity() function."
   ],
   "metadata": {
    "collapsed": false
   }
  },
  {
   "cell_type": "code",
   "execution_count": 4,
   "outputs": [
    {
     "name": "stderr",
     "output_type": "stream",
     "text": [
      "INFO:superconductivity.multilayer.stack:Computing the order parameter for a stack.\n",
      "DEBUG:superconductivity.multilayer.stack:Iteration: 1 :: R: 0.159664\n",
      "DEBUG:superconductivity.multilayer.stack:Iteration: 2 :: R: 0.0259528\n",
      "DEBUG:superconductivity.multilayer.stack:Iteration: 3 :: R: 0.0133177\n",
      "DEBUG:superconductivity.multilayer.stack:Iteration: 4 :: R: 0.00640819\n",
      "DEBUG:superconductivity.multilayer.stack:Iteration: 5 :: R: 0.00283738\n",
      "DEBUG:superconductivity.multilayer.stack:Iteration: 6 :: R: 0.00130263\n",
      "DEBUG:superconductivity.multilayer.stack:Iteration: 7 :: R: 0.000919712\n",
      "INFO:superconductivity.multilayer.stack:Order parameter computed.\n",
      "INFO:superconductivity.multilayer.stack:Computing the pair angle for a stack.\n",
      "INFO:superconductivity.multilayer.stack:Pair angle computed.\n",
      "INFO:superconductivity.multilayer.stack:Computing the order parameter for a stack.\n",
      "DEBUG:superconductivity.multilayer.stack:Iteration: 1 :: R: 0.172764\n",
      "DEBUG:superconductivity.multilayer.stack:Iteration: 2 :: R: 0.00921008\n",
      "DEBUG:superconductivity.multilayer.stack:Iteration: 3 :: R: 0.000567303\n",
      "INFO:superconductivity.multilayer.stack:Order parameter computed.\n",
      "INFO:superconductivity.multilayer.stack:Computing the pair angle for a stack.\n",
      "INFO:superconductivity.multilayer.stack:Pair angle computed.\n"
     ]
    },
    {
     "data": {
      "text/plain": "<Figure size 432x288 with 1 Axes>",
      "image/png": "[encoded data removed]"
     },
     "metadata": {
      "needs_background": "light"
     },
     "output_type": "display_data"
    }
   ],
   "source": [
    "figure, axes = plt.subplots()\n",
    "for i, d in enumerate(d_ti):\n",
    "    # Define the superconductors.\n",
    "    al = Superconductor(d_al, rho_al, t, td_al, tc_al, dc_al)\n",
    "    ti = Superconductor(d, rho_ti, t, td_ti, tc_ti, dc_ti)\n",
    "\n",
    "    # Fix the number of Matsubara frequencies to what is used in the paper.\n",
    "    # Typically, the number of frequencies used is determined from the Debye\n",
    "    # temperature for the material.\n",
    "    al.nc = 125\n",
    "    ti.nc = 125\n",
    "\n",
    "    # Add the superconductors to the trilayer\n",
    "    stack = Stack([al, ti, al], [rb, rb])\n",
    "\n",
    "    # The paper also uses a lower relative convergence tolerance and does not\n",
    "    # use Steffensen's iterations to speed up the convergence.\n",
    "    stack.rtol = 1e-3\n",
    "    stack.speedup = False\n",
    "\n",
    "    # Do the simulation.\n",
    "    frequencies = np.logspace(np.log10(1e9), np.log10(1000e9), 200)\n",
    "    zs_bottom, zs_top = surface_impedance(stack, frequencies)\n",
    "\n",
    "    # Plot the results.\n",
    "    axes.semilogx(frequencies / 1e9, zs_top.real * 1e3, color=f\"C{i}\")\n",
    "    axes.semilogx(frequencies / 1e9, zs_top.imag * 1e3, color=f\"C{i}\",\n",
    "                  linestyle=\"--\")\n",
    "axes.set_ylim(0, 200)\n",
    "axes.set_xlim(1, 1000)\n",
    "axes.set_ylabel(r\"$Z_s$ [m$\\Omega$]\")\n",
    "axes.set_xlabel(r\"$\\nu$ [GHz]\");"
   ],
   "metadata": {
    "collapsed": false,
    "pycharm": {
     "name": "#%%\n"
    }
   }
  }
 ],
 "metadata": {
  "kernelspec": {
   "display_name": "Python 3",
   "language": "python",
   "name": "python3"
  },
  "language_info": {
   "codemirror_mode": {
    "name": "ipython",
    "version": 2
   },
   "file_extension": ".py",
   "mimetype": "text/x-python",
   "name": "python",
   "nbconvert_exporter": "python",
   "pygments_lexer": "ipython2",
   "version": "2.7.6"
  }
 },
 "nbformat": 4,
 "nbformat_minor": 0
}
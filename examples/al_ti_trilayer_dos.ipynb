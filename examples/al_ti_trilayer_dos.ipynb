{
 "cells": [
  {
   "cell_type": "markdown",
   "source": [
    "# Trilayer Density of States Calculation\n",
    "This file simulates the Al/Ti/Al trilayer discussed in\n",
    "[Zhao et al. 2018](doi.org/10.1088/1361-6668/aa94b7) for a variety of different\n",
    "layer thicknesses and reproduces figure 3.\n",
    "\n",
    "We start with the standard import statements. (matplotlib is not a requirement\n",
    "for this library, so it must be installed separately for this notebook to run).\n",
    "The logging module is also initialized to show details about the calculation."
   ],
   "metadata": {
    "collapsed": false,
    "pycharm": {
     "name": "#%% md\n"
    }
   }
  },
  {
   "cell_type": "code",
   "execution_count": 1,
   "outputs": [],
   "source": [
    "import logging\n",
    "import numpy as np\n",
    "from scipy.constants import hbar, k\n",
    "from matplotlib import pyplot as plt\n",
    "from superconductivity.multilayer import Stack, Superconductor\n",
    "\n",
    "logging.basicConfig(level=logging.DEBUG)\n",
    "logging.getLogger(\"matplotlib\").setLevel(logging.WARNING)\n",
    "\n",
    "%matplotlib inline"
   ],
   "metadata": {
    "collapsed": false,
    "pycharm": {
     "name": "#%%\n"
    }
   }
  },
  {
   "cell_type": "markdown",
   "source": [
    "To define a trilayer, we need the thickness, transition temperature,\n",
    "Debye temperature, diffusion constant, and resistivity for each layer. These\n",
    "numbers are taken from the paper.\n",
    "\n",
    "Here, we define five different titanium thicknesses to iterate over."
   ],
   "metadata": {
    "collapsed": false
   }
  },
  {
   "cell_type": "code",
   "execution_count": 2,
   "outputs": [],
   "source": [
    "# Ti parameters\n",
    "# thickness [m]\n",
    "d_ti = [25e-9, 50e-9, 100e-9, 150e-9, 200e-9]\n",
    "# transition temperature [K]\n",
    "tc_ti = 0.4\n",
    "# Debye temperature [K]\n",
    "td_ti = 420  # not actually used since we fix nc later\n",
    "# coherence length [m]\n",
    "xi_ti = 110e-9\n",
    "# diffusion constant [m^2 / s]\n",
    "dc_ti = 2 * np.pi * xi_ti**2 * tc_ti * k / hbar\n",
    "# resistivity [Ohm m]\n",
    "rho_ti = 1 / 3 * 1e-6\n",
    "\n",
    "# Al parameters\n",
    "# thickness [m]\n",
    "d_al = 25e-9\n",
    "# transition temperature [K]\n",
    "tc_al = 1.2\n",
    "# Debye temperature [K]\n",
    "td_al = 433  # not actually used since we fix nc later\n",
    "# coherence length [m]\n",
    "xi_al = 170e-9\n",
    "# diffusion constant [m^2 / s]\n",
    "dc_al = 2 * np.pi * xi_al**2 * tc_al * k / hbar\n",
    "# resistivity [Ohm m]\n",
    "rho_al = 1 / 180 * 1e-6"
   ],
   "metadata": {
    "collapsed": false,
    "pycharm": {
     "name": "#%%\n"
    }
   }
  },
  {
   "cell_type": "markdown",
   "source": [
    "We also need to know the boundary resistance between layers and the temperature."
   ],
   "metadata": {
    "collapsed": false
   }
  },
  {
   "cell_type": "code",
   "execution_count": 3,
   "outputs": [],
   "source": [
    "# boundary resistance [Ohm m^2]\n",
    "rb = 0.01 * rho_al * xi_al\n",
    "# temperature [K]\n",
    "t = 0.1"
   ],
   "metadata": {
    "collapsed": false,
    "pycharm": {
     "name": "#%%\n"
    }
   }
  },
  {
   "cell_type": "markdown",
   "source": [
    "The simulation is done by first creating the superconductor objects, setting\n",
    "some simulation parameters, adding them to a stack object, and then updating\n",
    "the density of states."
   ],
   "metadata": {
    "collapsed": false
   }
  },
  {
   "cell_type": "code",
   "execution_count": 4,
   "outputs": [
    {
     "name": "stderr",
     "output_type": "stream",
     "text": [
      "INFO:superconductivity.multilayer.stack:Computing the order parameter for a stack.\n",
      "DEBUG:superconductivity.multilayer.stack:Iteration: 1 :: R: 0.172764\n",
      "DEBUG:superconductivity.multilayer.stack:Iteration: 2 :: R: 0.00921008\n",
      "DEBUG:superconductivity.multilayer.stack:Iteration: 3 :: R: 0.000567303\n",
      "INFO:superconductivity.multilayer.stack:Order parameter computed.\n",
      "INFO:superconductivity.multilayer.stack:Computing the pair angle for a stack.\n",
      "INFO:superconductivity.multilayer.stack:Pair angle computed.\n",
      "INFO:superconductivity.multilayer.stack:Computing the order parameter for a stack.\n",
      "DEBUG:superconductivity.multilayer.stack:Iteration: 1 :: R: 0.167901\n",
      "DEBUG:superconductivity.multilayer.stack:Iteration: 2 :: R: 0.0222829\n",
      "DEBUG:superconductivity.multilayer.stack:Iteration: 3 :: R: 0.00265227\n",
      "DEBUG:superconductivity.multilayer.stack:Iteration: 4 :: R: 0.000781831\n",
      "INFO:superconductivity.multilayer.stack:Order parameter computed.\n",
      "INFO:superconductivity.multilayer.stack:Computing the pair angle for a stack.\n",
      "INFO:superconductivity.multilayer.stack:Pair angle computed.\n",
      "INFO:superconductivity.multilayer.stack:Computing the order parameter for a stack.\n",
      "DEBUG:superconductivity.multilayer.stack:Iteration: 1 :: R: 0.162902\n",
      "DEBUG:superconductivity.multilayer.stack:Iteration: 2 :: R: 0.0318186\n",
      "DEBUG:superconductivity.multilayer.stack:Iteration: 3 :: R: 0.0095228\n",
      "DEBUG:superconductivity.multilayer.stack:Iteration: 4 :: R: 0.00234924\n",
      "DEBUG:superconductivity.multilayer.stack:Iteration: 5 :: R: 0.00103921\n",
      "DEBUG:superconductivity.multilayer.stack:Iteration: 6 :: R: 0.000751543\n",
      "INFO:superconductivity.multilayer.stack:Order parameter computed.\n",
      "INFO:superconductivity.multilayer.stack:Computing the pair angle for a stack.\n",
      "INFO:superconductivity.multilayer.stack:Pair angle computed.\n",
      "INFO:superconductivity.multilayer.stack:Computing the order parameter for a stack.\n",
      "DEBUG:superconductivity.multilayer.stack:Iteration: 1 :: R: 0.160718\n",
      "DEBUG:superconductivity.multilayer.stack:Iteration: 2 :: R: 0.0297871\n",
      "DEBUG:superconductivity.multilayer.stack:Iteration: 3 :: R: 0.0128026\n",
      "DEBUG:superconductivity.multilayer.stack:Iteration: 4 :: R: 0.00489394\n",
      "DEBUG:superconductivity.multilayer.stack:Iteration: 5 :: R: 0.00162364\n",
      "DEBUG:superconductivity.multilayer.stack:Iteration: 6 :: R: 0.00103303\n",
      "DEBUG:superconductivity.multilayer.stack:Iteration: 7 :: R: 0.000748158\n",
      "INFO:superconductivity.multilayer.stack:Order parameter computed.\n",
      "INFO:superconductivity.multilayer.stack:Computing the pair angle for a stack.\n",
      "INFO:superconductivity.multilayer.stack:Pair angle computed.\n",
      "INFO:superconductivity.multilayer.stack:Computing the order parameter for a stack.\n",
      "DEBUG:superconductivity.multilayer.stack:Iteration: 1 :: R: 0.159664\n",
      "DEBUG:superconductivity.multilayer.stack:Iteration: 2 :: R: 0.0258835\n",
      "DEBUG:superconductivity.multilayer.stack:Iteration: 3 :: R: 0.013269\n",
      "DEBUG:superconductivity.multilayer.stack:Iteration: 4 :: R: 0.00633808\n",
      "DEBUG:superconductivity.multilayer.stack:Iteration: 5 :: R: 0.00278867\n",
      "DEBUG:superconductivity.multilayer.stack:Iteration: 6 :: R: 0.00130155\n",
      "DEBUG:superconductivity.multilayer.stack:Iteration: 7 :: R: 0.000918766\n",
      "INFO:superconductivity.multilayer.stack:Order parameter computed.\n",
      "INFO:superconductivity.multilayer.stack:Computing the pair angle for a stack.\n",
      "INFO:superconductivity.multilayer.stack:Pair angle computed.\n"
     ]
    },
    {
     "data": {
      "text/plain": "<Figure size 432x288 with 1 Axes>",
      "image/png": "[encoded data removed]"
     },
     "metadata": {
      "needs_background": "light"
     },
     "output_type": "display_data"
    }
   ],
   "source": [
    "figure, axes = plt.subplots()\n",
    "for d in d_ti:\n",
    "    # Define the superconductors\n",
    "    al = Superconductor(d_al, rho_al, t, td_al, tc_al, dc_al)\n",
    "    ti = Superconductor(d, rho_ti, t, td_ti, tc_ti, dc_ti)\n",
    "\n",
    "    # Set some simulation parameters to match those used in the paper\n",
    "    Stack.RTOL = 1e-3\n",
    "    Stack.SPEEDUP = 0\n",
    "    Superconductor.Z_GRID = 10\n",
    "    Superconductor.E_GRID = 1500\n",
    "    al.nc = 125\n",
    "    ti.nc = 125\n",
    "\n",
    "    # Add the superconductors to the trilayer\n",
    "    stack = Stack([al, ti, al], [rb, rb])\n",
    "\n",
    "    # Do the simulation\n",
    "    stack.update_dos()\n",
    "\n",
    "    # Plot the density of states at the aluminum edge and titanium center\n",
    "    stack.plot_dos(axes=axes, location=[['bottom'], ['center'], []],\n",
    "                   fix_color=True, legend=False, energy_scale='µeV')\n",
    "\n",
    "axes.set_ylim(0, 25)\n",
    "axes.set_xlim(115, 200);"
   ],
   "metadata": {
    "collapsed": false,
    "pycharm": {
     "name": "#%%\n"
    }
   }
  }
 ],
 "metadata": {
  "kernelspec": {
   "display_name": "Python 3",
   "language": "python",
   "name": "python3"
  },
  "language_info": {
   "codemirror_mode": {
    "name": "ipython",
    "version": 2
   },
   "file_extension": ".py",
   "mimetype": "text/x-python",
   "name": "python",
   "nbconvert_exporter": "python",
   "pygments_lexer": "ipython2",
   "version": "2.7.6"
  }
 },
 "nbformat": 4,
 "nbformat_minor": 0
}
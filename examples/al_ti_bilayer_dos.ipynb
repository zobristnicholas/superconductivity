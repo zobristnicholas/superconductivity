{
 "cells": [
  {
   "cell_type": "markdown",
   "metadata": {
    "collapsed": true,
    "pycharm": {
     "name": "#%% md\n"
    }
   },
   "source": [
    "# Bilayer Density of States Calculation\n",
    "This file simulates the Al/Ti bilayer discussed in\n",
    "[Zhao et al. 2018](https://doi.org/10.1088/1361-6668/aa94b7) for a variety of\n",
    "different layer thicknesses and reproduces figure 4.\n",
    "\n",
    "We start with the standard import statements. (matplotlib is not a requirement\n",
    "for this library, so it must be installed separately for this notebook to run).\n",
    "The logging module is also initialized to show details about the calculation."
   ]
  },
  {
   "cell_type": "code",
   "execution_count": 1,
   "outputs": [],
   "source": [
    "import logging\n",
    "import numpy as np\n",
    "from scipy.constants import hbar, k\n",
    "from matplotlib import pyplot as plt\n",
    "from superconductivity.multilayer import Stack, Superconductor\n",
    "\n",
    "logging.basicConfig(level=logging.DEBUG)\n",
    "logging.getLogger(\"numba\").setLevel(logging.WARNING)\n",
    "logging.getLogger(\"matplotlib\").setLevel(logging.WARNING)\n",
    "\n",
    "%matplotlib inline"
   ],
   "metadata": {
    "collapsed": false,
    "pycharm": {
     "name": "#%%\n"
    }
   }
  },
  {
   "cell_type": "markdown",
   "source": [
    "To define a bilayer, we need the thickness, transition temperature,\n",
    "Debye temperature, diffusion constant, and resistivity for each layer. These\n",
    "numbers are taken from the paper.\n",
    "\n",
    "Here, we define five different titanium thicknesses to iterate over."
   ],
   "metadata": {
    "collapsed": false,
    "pycharm": {
     "name": "#%% md\n"
    }
   }
  },
  {
   "cell_type": "code",
   "execution_count": 2,
   "outputs": [],
   "source": [
    "# Ti parameters\n",
    "# thickness [m]\n",
    "d_ti = [25e-9, 45e-9, 80e-9, 105e-9, 130e-9]\n",
    "# transition temperature [K]\n",
    "tc_ti = 0.4\n",
    "# Debye temperature [K]\n",
    "td_ti = 420  # not actually used since we fix nc later\n",
    "# coherence length [m]\n",
    "xi_ti = 110e-9\n",
    "# diffusion constant [m^2 / s]\n",
    "dc_ti = 2 * np.pi * xi_ti**2 * tc_ti * k / hbar\n",
    "# resistivity [Ohm m]\n",
    "rho_ti = 1 / 3 * 1e-6\n",
    "\n",
    "# Al parameters\n",
    "# thickness [m]\n",
    "d_al = 50e-9\n",
    "# transition temperature [K]\n",
    "tc_al = 1.2\n",
    "# Debye temperature [K]\n",
    "td_al = 433  # not actually used since we fix nc later\n",
    "# coherence length [m]\n",
    "xi_al = 170e-9\n",
    "# diffusion constant [m^2 / s]\n",
    "dc_al = 2 * np.pi * xi_al**2 * tc_al * k / hbar\n",
    "# resistivity [Ohm m]\n",
    "rho_al = 1 / 180 * 1e-6"
   ],
   "metadata": {
    "collapsed": false,
    "pycharm": {
     "name": "#%%\n"
    }
   }
  },
  {
   "cell_type": "markdown",
   "source": [
    "We also need to know the boundary resistance between layers and the temperature."
   ],
   "metadata": {
    "collapsed": false,
    "pycharm": {
     "name": "#%% md\n"
    }
   }
  },
  {
   "cell_type": "code",
   "execution_count": 3,
   "outputs": [],
   "source": [
    "# boundary resistance [Ohm m^2]\n",
    "rb = 0.01 * rho_al * xi_al\n",
    "# temperature [K]\n",
    "t = 0.1"
   ],
   "metadata": {
    "collapsed": false,
    "pycharm": {
     "name": "#%%\n"
    }
   }
  },
  {
   "cell_type": "markdown",
   "source": [
    "The simulation is done by first creating the superconductor objects, setting\n",
    "some simulation parameters, adding them to a stack object, and then updating\n",
    "the density of states."
   ],
   "metadata": {
    "collapsed": false,
    "pycharm": {
     "name": "#%% md\n"
    }
   }
  },
  {
   "cell_type": "code",
   "execution_count": 4,
   "outputs": [
    {
     "name": "stderr",
     "output_type": "stream",
     "text": [
      "INFO:superconductivity.multilayer.stack:Computing the order parameter for a stack.\n",
      "DEBUG:superconductivity.multilayer.superconductor:Initializing bulk parameters\n",
      "DEBUG:superconductivity.multilayer.superconductor:Bulk parameters initialized.\n",
      "DEBUG:superconductivity.multilayer.superconductor:Initializing bulk parameters\n",
      "DEBUG:superconductivity.multilayer.superconductor:Bulk parameters initialized.\n",
      "DEBUG:superconductivity.multilayer.stack:Iteration: 1 :: R: 0.173126\n",
      "DEBUG:superconductivity.multilayer.stack:Iteration: 2 :: R: 0.0241443\n",
      "DEBUG:superconductivity.multilayer.stack:Iteration: 3 :: R: 0.0033345\n",
      "DEBUG:superconductivity.multilayer.stack:Iteration: 4 :: R: 0.000428413\n",
      "INFO:superconductivity.multilayer.stack:Order parameter computed.\n",
      "INFO:superconductivity.multilayer.stack:Computing the pairing angle for a stack.\n",
      "INFO:superconductivity.multilayer.stack:Pairing angle computed.\n",
      "INFO:superconductivity.multilayer.stack:Computing the order parameter for a stack.\n",
      "DEBUG:superconductivity.multilayer.superconductor:Initializing bulk parameters\n",
      "DEBUG:superconductivity.multilayer.superconductor:Bulk parameters initialized.\n",
      "DEBUG:superconductivity.multilayer.superconductor:Initializing bulk parameters\n",
      "DEBUG:superconductivity.multilayer.superconductor:Bulk parameters initialized.\n",
      "DEBUG:superconductivity.multilayer.stack:Iteration: 1 :: R: 0.170654\n",
      "DEBUG:superconductivity.multilayer.stack:Iteration: 2 :: R: 0.0339816\n",
      "DEBUG:superconductivity.multilayer.stack:Iteration: 3 :: R: 0.00972712\n",
      "DEBUG:superconductivity.multilayer.stack:Iteration: 4 :: R: 0.00244218\n",
      "DEBUG:superconductivity.multilayer.stack:Iteration: 5 :: R: 0.000537991\n",
      "INFO:superconductivity.multilayer.stack:Order parameter computed.\n",
      "INFO:superconductivity.multilayer.stack:Computing the pairing angle for a stack.\n",
      "INFO:superconductivity.multilayer.stack:Pairing angle computed.\n",
      "INFO:superconductivity.multilayer.stack:Computing the order parameter for a stack.\n",
      "DEBUG:superconductivity.multilayer.superconductor:Initializing bulk parameters\n",
      "DEBUG:superconductivity.multilayer.superconductor:Bulk parameters initialized.\n",
      "DEBUG:superconductivity.multilayer.superconductor:Initializing bulk parameters\n",
      "DEBUG:superconductivity.multilayer.superconductor:Bulk parameters initialized.\n",
      "DEBUG:superconductivity.multilayer.stack:Iteration: 1 :: R: 0.168834\n",
      "DEBUG:superconductivity.multilayer.stack:Iteration: 2 :: R: 0.0314881\n",
      "DEBUG:superconductivity.multilayer.stack:Iteration: 3 :: R: 0.014796\n",
      "DEBUG:superconductivity.multilayer.stack:Iteration: 4 :: R: 0.00634488\n",
      "DEBUG:superconductivity.multilayer.stack:Iteration: 5 :: R: 0.00254317\n",
      "DEBUG:superconductivity.multilayer.stack:Iteration: 6 :: R: 0.00092841\n",
      "INFO:superconductivity.multilayer.stack:Order parameter computed.\n",
      "INFO:superconductivity.multilayer.stack:Computing the pairing angle for a stack.\n",
      "INFO:superconductivity.multilayer.stack:Pairing angle computed.\n",
      "INFO:superconductivity.multilayer.stack:Computing the order parameter for a stack.\n",
      "DEBUG:superconductivity.multilayer.superconductor:Initializing bulk parameters\n",
      "DEBUG:superconductivity.multilayer.superconductor:Bulk parameters initialized.\n",
      "DEBUG:superconductivity.multilayer.superconductor:Initializing bulk parameters\n",
      "DEBUG:superconductivity.multilayer.superconductor:Bulk parameters initialized.\n",
      "DEBUG:superconductivity.multilayer.stack:Iteration: 1 :: R: 0.168296\n",
      "DEBUG:superconductivity.multilayer.stack:Iteration: 2 :: R: 0.0283484\n",
      "DEBUG:superconductivity.multilayer.stack:Iteration: 3 :: R: 0.0147933\n",
      "DEBUG:superconductivity.multilayer.stack:Iteration: 4 :: R: 0.007629\n",
      "DEBUG:superconductivity.multilayer.stack:Iteration: 5 :: R: 0.00371837\n",
      "DEBUG:superconductivity.multilayer.stack:Iteration: 6 :: R: 0.00172662\n",
      "DEBUG:superconductivity.multilayer.stack:Iteration: 7 :: R: 0.000752108\n",
      "INFO:superconductivity.multilayer.stack:Order parameter computed.\n",
      "INFO:superconductivity.multilayer.stack:Computing the pairing angle for a stack.\n",
      "INFO:superconductivity.multilayer.stack:Pairing angle computed.\n",
      "INFO:superconductivity.multilayer.stack:Computing the order parameter for a stack.\n",
      "DEBUG:superconductivity.multilayer.superconductor:Initializing bulk parameters\n",
      "DEBUG:superconductivity.multilayer.superconductor:Bulk parameters initialized.\n",
      "DEBUG:superconductivity.multilayer.superconductor:Initializing bulk parameters\n",
      "DEBUG:superconductivity.multilayer.superconductor:Bulk parameters initialized.\n",
      "DEBUG:superconductivity.multilayer.stack:Iteration: 1 :: R: 0.168016\n",
      "DEBUG:superconductivity.multilayer.stack:Iteration: 2 :: R: 0.0265964\n",
      "DEBUG:superconductivity.multilayer.stack:Iteration: 3 :: R: 0.0135315\n",
      "DEBUG:superconductivity.multilayer.stack:Iteration: 4 :: R: 0.0079191\n",
      "DEBUG:superconductivity.multilayer.stack:Iteration: 5 :: R: 0.0043835\n",
      "DEBUG:superconductivity.multilayer.stack:Iteration: 6 :: R: 0.00233276\n",
      "DEBUG:superconductivity.multilayer.stack:Iteration: 7 :: R: 0.00119716\n",
      "DEBUG:superconductivity.multilayer.stack:Iteration: 8 :: R: 0.000587038\n",
      "INFO:superconductivity.multilayer.stack:Order parameter computed.\n",
      "INFO:superconductivity.multilayer.stack:Computing the pairing angle for a stack.\n",
      "INFO:superconductivity.multilayer.stack:Pairing angle computed.\n"
     ]
    },
    {
     "data": {
      "text/plain": "<Figure size 432x288 with 1 Axes>",
      "image/png": "[encoded data removed]"
     },
     "metadata": {
      "needs_background": "light"
     },
     "output_type": "display_data"
    }
   ],
   "source": [
    "figure, axes = plt.subplots()\n",
    "for d in d_ti:\n",
    "    # Define the superconductors.\n",
    "    al = Superconductor(d_al, rho_al, t, td_al, tc_al, dc_al)\n",
    "    ti = Superconductor(d, rho_ti, t, td_ti, tc_ti, dc_ti)\n",
    "\n",
    "    # Fix the number of Matsubara frequencies to what is used in the paper.\n",
    "    # Typically, the number of frequencies used is determined from the Debye\n",
    "    # temperature for the material.\n",
    "    al.nc = 125\n",
    "    ti.nc = 125\n",
    "\n",
    "    # Add the superconductors to the bilayer.\n",
    "    stack = Stack([al, ti], rb)\n",
    "\n",
    "    # The paper also uses a lower relative convergence tolerance and does not\n",
    "    # use Steffensen's iterations to speed up the convergence.\n",
    "    stack.rtol = 1e-3\n",
    "    stack.speedup = False\n",
    "\n",
    "    # Do the simulation.\n",
    "    stack.update_dos()\n",
    "\n",
    "    # Plot the density of states at the open boundaries.\n",
    "    stack.plot_dos(axes=axes, location=[['bottom'], ['top']],\n",
    "                   fix_color=True, legend=False, energy_scale='µeV')\n",
    "\n",
    "axes.set_ylim(0, 16)\n",
    "axes.set_xlim(115, 200);"
   ],
   "metadata": {
    "collapsed": false,
    "pycharm": {
     "name": "#%%\n"
    }
   }
  }
 ],
 "metadata": {
  "kernelspec": {
   "display_name": "Python 3",
   "language": "python",
   "name": "python3"
  },
  "language_info": {
   "codemirror_mode": {
    "name": "ipython",
    "version": 2
   },
   "file_extension": ".py",
   "mimetype": "text/x-python",
   "name": "python",
   "nbconvert_exporter": "python",
   "pygments_lexer": "ipython2",
   "version": "2.7.6"
  }
 },
 "nbformat": 4,
 "nbformat_minor": 0
}
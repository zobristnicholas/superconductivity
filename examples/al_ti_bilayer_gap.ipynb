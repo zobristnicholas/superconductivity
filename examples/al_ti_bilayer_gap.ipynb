{
 "cells": [
  {
   "cell_type": "markdown",
   "source": [
    "# Bilayer Gap vs Temperature Calculation\n",
    "This file simulates the Al/Ti bilayer discussed in\n",
    "[Zhao et al. 2018](doi:10.1088/1361-6668/aad788) and determines the temperature\n",
    "dependence of the gap energy.\n",
    "\n",
    "We start with the standard import statements. (matplotlib is not a requirement\n",
    "for this library, so it must be installed separately for this notebook to run)."
   ],
   "metadata": {
    "collapsed": false
   }
  },
  {
   "cell_type": "code",
   "execution_count": 1,
   "metadata": {
    "collapsed": true
   },
   "outputs": [],
   "source": [
    "import numpy as np\n",
    "from matplotlib import pyplot as plt\n",
    "from scipy.constants import hbar, k, e\n",
    "from superconductivity.gap_functions import delta_bcs\n",
    "from superconductivity.multilayer import Stack, Superconductor"
   ]
  },
  {
   "cell_type": "markdown",
   "source": [
    "To define a bilayer, we need the thickness, transition temperature,\n",
    "Debye temperature, diffusion constant, and resistivity for each layer. These\n",
    "numbers are taken from the paper.\n",
    "\n",
    "We pick a thickness of 100 nm for each layer as an example, and in this paper,\n",
    "the boundary resistance is taken to be zero."
   ],
   "metadata": {
    "collapsed": false,
    "pycharm": {
     "name": "#%% md\n"
    }
   }
  },
  {
   "cell_type": "code",
   "execution_count": 2,
   "outputs": [],
   "source": [
    "# Ti parameters\n",
    "# thickness [m]\n",
    "d_ti = 100e-9\n",
    "# transition temperature [K]\n",
    "tc_ti = 0.55\n",
    "# Debye temperature [K]\n",
    "td_ti = 426\n",
    "# diffusion constant [m^2 / s]\n",
    "dc_ti = 1.5\n",
    "# resistivity [Ohm m]\n",
    "rho_ti = 1 / 5.88 * 1e-6\n",
    "\n",
    "# Al parameters\n",
    "# thickness [m]\n",
    "d_al = 100e-9\n",
    "# transition temperature [K]\n",
    "tc_al = 1.2\n",
    "# Debye temperature [K]\n",
    "td_al = 423\n",
    "# diffusion constant [m^2 / s]\n",
    "dc_al = 35\n",
    "# resistivity [Ohm m]\n",
    "rho_al = 1 / 132 * 1e-6\n",
    "\n",
    "# Other parameters\n",
    "# boundary resistance [Ohm m^2]\n",
    "rb = 0.0\n",
    "# temperature [K]\n",
    "min_t = min(tc_al, tc_ti) / 10\n",
    "max_t = max(tc_al, tc_ti)\n",
    "t = np.linspace(min_t, max_t, 100)"
   ],
   "metadata": {
    "collapsed": false,
    "pycharm": {
     "name": "#%%\n"
    }
   }
  },
  {
   "cell_type": "markdown",
   "source": [
    "The simulation is done by first creating the superconductor objects, setting\n",
    "some simulation parameters, adding them to a stack object. The temperatures\n",
    "can then be reset before computing the energy gap. Because the layer\n",
    "thicknesses are small, the energy gap is the same everywhere in the stack, so\n",
    "we only take one value as representative of the film."
   ],
   "metadata": {
    "collapsed": false,
    "pycharm": {
     "name": "#%% md\n"
    }
   }
  },
  {
   "cell_type": "code",
   "execution_count": 3,
   "outputs": [
    {
     "data": {
      "text/plain": "<Figure size 432x288 with 1 Axes>",
      "image/png": "[encoded data removed]"
     },
     "metadata": {
      "needs_background": "light"
     },
     "output_type": "display_data"
    }
   ],
   "source": [
    "# Define the superconductors\n",
    "al = Superconductor(d_al, rho_al, t[0], td_al, tc_al, dc_al)\n",
    "ti = Superconductor(d_ti, rho_ti, t[0], td_ti, tc_ti, dc_ti)\n",
    "\n",
    "# We need a larger grid for the BVP to be solvable in this simulation\n",
    "Superconductor.Z_GRID = 10\n",
    "\n",
    "# Add the superconductors to a stack\n",
    "stack = Stack([al, ti], rb)\n",
    "\n",
    "# Loop over the temperatures\n",
    "figure, axes = plt.subplots()\n",
    "gap = np.zeros(len(t))\n",
    "for ii, tii in enumerate(t):\n",
    "    # Set the new temperature\n",
    "    stack.t = tii\n",
    "\n",
    "    # Do the simulation\n",
    "    stack.update_order()\n",
    "    stack.update_gap()\n",
    "\n",
    "    # Save the gap energy (same for all layers and positions)\n",
    "    gap[ii] = stack.layers[0].gap[0]\n",
    "\n",
    "# Plot the results.\n",
    "plt.plot(t, gap / e * 1e3, label=\"bilayer\")\n",
    "plt.plot(t, delta_bcs(t, tc_al) / e * 1e3, label='bulk Al')\n",
    "plt.plot(t, delta_bcs(t, tc_ti) / e * 1e3, label='bulk Ti')\n",
    "plt.xlabel(\"temperature [K]\")\n",
    "plt.ylabel(\"gap energy [meV]\")\n",
    "plt.legend();"
   ],
   "metadata": {
    "collapsed": false,
    "pycharm": {
     "name": "#%%\n"
    }
   }
  },
  {
   "cell_type": "markdown",
   "source": [
    "The gap energy vs Tc curve follows the same functional form as the bulk BCS\n",
    "values. Therefore, we can use the ∆0 = 1.764 * k * Tc formula to calculate Tc\n",
    "from the zero temperature energy gap."
   ],
   "metadata": {
    "collapsed": false,
    "pycharm": {
     "name": "#%% md\n"
    }
   }
  }
 ],
 "metadata": {
  "kernelspec": {
   "display_name": "Python 3",
   "language": "python",
   "name": "python3"
  },
  "language_info": {
   "codemirror_mode": {
    "name": "ipython",
    "version": 2
   },
   "file_extension": ".py",
   "mimetype": "text/x-python",
   "name": "python",
   "nbconvert_exporter": "python",
   "pygments_lexer": "ipython2",
   "version": "2.7.6"
  }
 },
 "nbformat": 4,
 "nbformat_minor": 0
}